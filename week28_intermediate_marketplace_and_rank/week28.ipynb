{
 "metadata": {
  "kernelspec": {
   "display_name": "Streamlit Notebook",
   "name": "streamlit"
  }
 },
 "nbformat_minor": 5,
 "nbformat": 4,
 "cells": [
  {
   "cell_type": "markdown",
   "id": "39fd996d-140a-42c8-b66b-32de63b8252e",
   "metadata": {
    "name": "header",
    "collapsed": false
   },
   "source": "# ⛄Frosty Friday Week28 🍂 \n\n## 使うデータソース\n\nCOVID-19の疫学情報は以下を用いる。  \n[COVID-19 Epidemiological Data](https://app.snowflake.com/marketplace/listing/GZSNZ7F5UH/starschema-covid-19-epidemiological-data)\nデータベース名は ```FFW28_COVID19``` に変更しておく。  \n\n気象情報は以下を用いる。  \n[Weather & Environment](https://app.snowflake.com/marketplace/listing/GZTSZAS2KIM/cybersyn-weather-environment)\nデータベース名は ```FFW28_WEATHER``` に変更しておく。  "
  },
  {
   "cell_type": "markdown",
   "id": "13fb1b21-8934-4a95-95d9-ea1c30c94eba",
   "metadata": {
    "name": "md1",
    "collapsed": false
   },
   "source": "## ステップ1 \"とりあえずわかりやすいところから\"\n\nまず、ISO 3166-1 alpha-2 codeに変換したい国名を列挙する。  "
  },
  {
   "cell_type": "code",
   "id": "b6ddef16-b670-4b57-980a-29c9dae9cb78",
   "metadata": {
    "language": "sql",
    "name": "cell1"
   },
   "outputs": [],
   "source": "SELECT DISTINCT(COUNTRY_NAME) AS COUNTRY_NAME\nFROM FFW28_WEATHER.CYBERSYN.NOAA_WEATHER_STATION_INDEX;",
   "execution_count": null
  },
  {
   "cell_type": "markdown",
   "id": "81e71ba6-cb98-414f-8b23-69a2cc0a002a",
   "metadata": {
    "name": "md2",
    "collapsed": false
   },
   "source": "## ステップ2 \"睡眠こそ最強の解決策である。それでダメならLLMがなんとかしてくれる\"\n\nSnowflake Cortex LLM Functionsで国名をISO 3166-1 alpha-2 codeに変換する。  \n色々試してみるといいけど、この手のシンプルタスクは結局 Snowflake Arctic が一番安定するんだよなぁ。  \nただし、出力の1文字目に半角スペースが追加されがちなので注意！  "
  },
  {
   "cell_type": "code",
   "id": "8ebed0f4-564f-47d0-90d8-97c56435162e",
   "metadata": {
    "language": "sql",
    "name": "cell2"
   },
   "outputs": [],
   "source": "SELECT COUNTRY_NAME, SUBSTRING(SNOWFLAKE.CORTEX.COMPLETE('snowflake-arctic', CONCAT('You are an assistant that converts country names to ISO 3166-1 alpha-2 codes. Follow these rules:\n\n1. Output ONLY the ISO 3166-1 alpha-2 code (2 characters) for the input country name\n2. Do not output any explanatory text or additional information\n3. Output only 2 uppercase alphabetic characters\n4. If the code is unknown, output \"XX\"\n\nSample format:\n### Sample Input ###\nJapan\n### Sample Output ###\nJP\n\n### Sample Input ###\nUnited States of America\n### Sample Output ###\nUS\n\n### Actual Input ###\n', COUNTRY_NAME)), 2, 2) AS ISO3166_1\nFROM {{cell1}};\n",
   "execution_count": null
  },
  {
   "cell_type": "markdown",
   "id": "a61d4a49-eddb-4c7c-af7e-22c7cd162fb3",
   "metadata": {
    "name": "md3",
    "collapsed": false
   },
   "source": "## ステップ3 \"決まってるだろ…合体だ！\"\n\nまずは二つのデータソースの国名をJOINする。"
  },
  {
   "cell_type": "code",
   "id": "541cbb6a-cea1-4e60-9a08-fdc43df08e6a",
   "metadata": {
    "language": "sql",
    "name": "cell3"
   },
   "outputs": [],
   "source": "SELECT\n    DISTINCT(A.COUNTRY_REGION) AS COUNTRY_NAME_1,\n    B.COUNTRY_NAME AS COUNTRY_NAME_2,\n    A.ISO3166_1\nFROM FFW28_COVID19.PUBLIC.ECDC_GLOBAL AS A\nJOIN {{cell2}} AS B\nON A.ISO3166_1 = B.ISO3166_1;",
   "execution_count": null
  },
  {
   "cell_type": "markdown",
   "id": "a6716d46-5fb1-4873-ab0c-1d406f623a9c",
   "metadata": {
    "name": "md4",
    "collapsed": false
   },
   "source": "## ステップ4 \"困難は分割せよ\"\n\n次に観測局の方を整形していこう。  \n国ごとに \"highest\" なものを抽出する。"
  },
  {
   "cell_type": "code",
   "id": "d06e804c-df3b-4868-a3c8-4bdd83a95f94",
   "metadata": {
    "language": "sql",
    "name": "cell4",
    "collapsed": false
   },
   "outputs": [],
   "source": "SELECT * FROM\n(\nSELECT\n    NOAA_WEATHER_STATION_ID AS STATION_ID,\n    NOAA_WEATHER_STATION_NAME AS STATION_NAME,\n    COUNTRY_NAME,\n    LATITUDE,\n    LONGITUDE,\n    RANK() OVER (PARTITION BY COUNTRY_NAME ORDER BY NOAA_WEATHER_STATION_NAME DESC) AS RANK_NUM\nFROM FFW28_WEATHER.CYBERSYN.NOAA_WEATHER_STATION_INDEX\n)\nWHERE RANK_NUM = 1;",
   "execution_count": null
  },
  {
   "cell_type": "markdown",
   "id": "0f54c35e-5488-40a4-96f7-6baf60038473",
   "metadata": {
    "name": "md5",
    "collapsed": false
   },
   "source": "## ステップ5 \"RANK IS 万能\"\n\nそれぞれの観測局の最大の平均気温を抽出する。  \nVALUEで ```PARTITION BY``` して最新の行を取得する。"
  },
  {
   "cell_type": "code",
   "id": "8ce79f50-c8d7-415f-962f-4d0770502ee2",
   "metadata": {
    "language": "sql",
    "name": "cell5",
    "collapsed": false
   },
   "outputs": [],
   "source": "SELECT * FROM\n(\nSELECT\n    NOAA_WEATHER_STATION_ID AS STATION_ID,\n    DATE,\n    VALUE,\n    RANK() OVER (PARTITION BY STATION_ID ORDER BY VALUE DESC) AS RANK_NUM\nFROM FFW28_WEATHER.CYBERSYN.NOAA_WEATHER_METRICS_TIMESERIES\nWHERE VARIABLE_NAME LIKE '%Average Temperature%'\n)\nWHERE RANK_NUM = 1;",
   "execution_count": null
  },
  {
   "cell_type": "markdown",
   "id": "3d0856e7-2a3c-47ac-bae3-830999b53961",
   "metadata": {
    "name": "md6",
    "collapsed": false
   },
   "source": "## ステップ6 \"全部合体！バーン！バーン！さらにバーン！\"\n\n準備ができたので全部JOINしていく。"
  },
  {
   "cell_type": "code",
   "id": "648db799-4059-4380-9cb0-2f98dcd2589b",
   "metadata": {
    "language": "sql",
    "name": "cell6"
   },
   "outputs": [],
   "source": "WITH STATION_AND_TEMPERATURE AS\n(\n    SELECT\n        A.COUNTRY_NAME,\n        A.STATION_ID,\n        A.STATION_NAME,\n        A.LATITUDE,\n        A.LONGITUDE,\n        B.DATE,\n        B.VALUE\n    FROM {{cell4}} A\n    JOIN {{cell5}} B\n    ON A.STATION_ID = B.STATION_ID\n)\n, RESULT_TABLE AS\n(\n    SELECT\n        C.COUNTRY_NAME_1 AS COUNTRY_NAME,\n        C.ISO3166_1,\n        D.STATION_ID,\n        D.STATION_NAME,\n        D.LATITUDE,\n        D.LONGITUDE,\n        D.DATE,\n        D.VALUE\n    FROM {{cell3}} C\n    JOIN STATION_AND_TEMPERATURE D\n    ON C.COUNTRY_NAME_2 = D.COUNTRY_NAME\n)\nSELECT * FROM RESULT_TABLE;",
   "execution_count": null
  },
  {
   "cell_type": "markdown",
   "id": "d5d406e9-4a0e-44c8-b9ae-71c5b2ed7f56",
   "metadata": {
    "name": "md7",
    "collapsed": false
   },
   "source": "## ステップ7 \"ピーナッツはすき。ヤード・ポンド法はきらい。\"\n\n国名でソートしよう。  \n摂氏(℃)じゃなくて華氏(℉)で出力することにも注意！  \n参考：[℉] = [℃] × 9⁄5 + 32"
  },
  {
   "cell_type": "code",
   "id": "7cfbe00a-09a5-4e3a-83bd-174b16b173cb",
   "metadata": {
    "language": "sql",
    "name": "cell7",
    "collapsed": false,
    "codeCollapsed": false
   },
   "outputs": [],
   "source": "SELECT\n    COUNTRY_NAME,\n    ISO3166_1\n    STATION_ID,\n    STATION_NAME,\n    LATITUDE,\n    LONGITUDE,\n    DATE,\n    ((VALUE * 1.8) + 32) AS FAHRENHEIT_TEMPERATURE,\n    ROW_NUMBER() OVER (PARTITION BY ISO3166_1 ORDER BY DATE DESC) AS ROW_NUM\nFROM {{cell6}}\nQUALIFY ROW_NUM = 1\nORDER BY COUNTRY_NAME;",
   "execution_count": null
  },
  {
   "cell_type": "markdown",
   "id": "c7a15ea7-28d9-4738-aaa8-48c15ebc8a37",
   "metadata": {
    "name": "md8",
    "collapsed": false
   },
   "source": "## おまけ \"ホコリかぶってた気温のリストもプロットしたら伝説じゃない\"\n\nSnowflake Notebooksなら可視化も簡単。  "
  },
  {
   "cell_type": "code",
   "id": "5ef79148-fa98-4703-bfa0-2dc29e773e47",
   "metadata": {
    "language": "python",
    "name": "cell8",
    "collapsed": false
   },
   "outputs": [],
   "source": "import streamlit as st\n\n# Pandasデータフレームで前のセルの値を取得する\ndf = cell7.to_pandas()\nst.dataframe(df)\n\n# プロットで使う追加のカラムを作成\n# 大きい値がより大きく見えるようにN乗にして強調する\ndf[\"size\"] = (df[\"FAHRENHEIT_TEMPERATURE\"] ** 2.5) * 5\n\n# 地図にプロットする\nst.map(df,\n       latitude=\"LATITUDE\",\n       longitude=\"LONGITUDE\",\n       size=\"size\")",
   "execution_count": null
  }
 ]
}