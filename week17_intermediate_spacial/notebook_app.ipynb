{
 "metadata": {
  "kernelspec": {
   "display_name": "Streamlit Notebook",
   "name": "streamlit"
  }
 },
 "nbformat_minor": 5,
 "nbformat": 4,
 "cells": [
  {
   "cell_type": "markdown",
   "id": "9a305ad5-5250-440f-a4dc-80aed74a2733",
   "metadata": {
    "name": "md_title",
    "collapsed": false
   },
   "source": "# FrostyFriday Week17 ⛄"
  },
  {
   "cell_type": "markdown",
   "id": "e63b712b-bfeb-48e6-8fac-f57b479aa75b",
   "metadata": {
    "name": "md_first",
    "collapsed": false
   },
   "source": "First, check dataset \"OPENSTREETMAP_NEW_YORK.NEW_YORK\" by SQL.  "
  },
  {
   "cell_type": "code",
   "id": "9fad6fa2-de96-406a-af39-fadbd561c98e",
   "metadata": {
    "language": "sql",
    "name": "cell2"
   },
   "outputs": [],
   "source": "SELECT ID, COORDINATES, ADDR_CITY FROM OPENSTREETMAP_NEW_YORK.NEW_YORK.v_osm_ny_shop_electronics LIMIT 100;",
   "execution_count": null
  },
  {
   "cell_type": "markdown",
   "id": "4ddf19ce-ef64-4107-ba5c-5341587be75d",
   "metadata": {
    "name": "md_second",
    "collapsed": false
   },
   "source": "Next, test basic processing for this dataset.  \nCoordinates includes various shapes, so I used ST_CENTROID function and standarized these.  "
  },
  {
   "cell_type": "code",
   "id": "bc99526c-7a65-4349-a4a9-aed4c3ea60ed",
   "metadata": {
    "language": "sql",
    "name": "cell3",
    "collapsed": false
   },
   "outputs": [],
   "source": "SELECT id, ST_CENTROID(coordinates) AS point, addr_city FROM OPENSTREETMAP_NEW_YORK.NEW_YORK.v_osm_ny_shop_electronics WHERE addr_city IS NOT NULL;",
   "execution_count": null
  },
  {
   "cell_type": "markdown",
   "id": "099e7da0-7ebf-4401-a2ec-bef5c3f93f0f",
   "metadata": {
    "name": "md_pairing",
    "collapsed": false
   },
   "source": "## Pairing step  \n\nCreate pair of nodes. Node means POI(Point of Interest) like a shop.  \nI defined some conditions:  \n\n- ID of nodes must be different.\n- Reference node is in Brooklyn.\n- ID which is related to 3 or more pairs are extracted by QUALIFY."
  },
  {
   "cell_type": "code",
   "id": "03fab943-3dd4-45ef-b6c9-ac1232cf3d73",
   "metadata": {
    "language": "sql",
    "name": "cell4",
    "collapsed": false
   },
   "outputs": [],
   "source": "SELECT p.id,\n       q.id AS neighbor_id,\n       ST_CENTROID(p.coordinates) as point1,\n       ST_CENTROID(q.coordinates) as point2,\n       ST_DISTANCE(point1, point2) AS distance,\n       ARRAY_MIN([ST_X(point1), ST_X(point2)]) AS min_x,\n       ARRAY_MAX([ST_X(point1), ST_X(point2)]) AS max_x,\n       ARRAY_MIN([ST_Y(point1), ST_Y(point2)]) AS min_y,\n       ARRAY_MAX([ST_Y(point1), ST_Y(point2)]) AS max_y,\n       COUNT(*) OVER (PARTITION BY p.id) poi_count\nFROM OPENSTREETMAP_NEW_YORK.NEW_YORK.v_osm_ny_shop_electronics p\nJOIN OPENSTREETMAP_NEW_YORK.NEW_YORK.v_osm_ny_shop_electronics q\nON p.addr_city = 'Brooklyn'\n   AND p.id != q.id\n   AND distance <= 750\nQUALIFY poi_count >= 3;",
   "execution_count": null
  },
  {
   "cell_type": "markdown",
   "id": "ff5bcdd4-e970-46b2-bb71-336636a97f49",
   "metadata": {
    "name": "md_marge",
    "collapsed": false
   },
   "source": "## Marge step\n\nMarge pairs.  \nI didn't use GEOGRAPHY data in the above cell, because these are changed while referenced from a cell to another cell. (Behavior as of 8/3/2024)"
  },
  {
   "cell_type": "code",
   "id": "0b4f4133-1706-4f53-98f4-46781dd44682",
   "metadata": {
    "language": "sql",
    "name": "cell5",
    "collapsed": false
   },
   "outputs": [],
   "source": "SELECT g.id,\nMIN(g.min_x) AS min_x,\nMAX(g.max_x) AS max_x,\nMIN(g.min_y) AS min_y,\nMAX(g.max_y) AS max_y\nFROM {{cells.cell4}} g\nGROUP BY g.id;",
   "execution_count": null
  },
  {
   "cell_type": "markdown",
   "id": "a3e8e432-a439-428e-af03-21947cb971dc",
   "metadata": {
    "name": "md_polygonize",
    "collapsed": false
   },
   "source": "## Polygonize step\n\nCreate polygons from min and max values.  \nI used strings concat approach to create polygons.  \nX means longitude, Y means latitude. The order is clockwise.  "
  },
  {
   "cell_type": "code",
   "id": "497c453d-7137-41d3-961e-9b4630ff9897",
   "metadata": {
    "language": "sql",
    "name": "cell6",
    "collapsed": false
   },
   "outputs": [],
   "source": "select id, \n   TO_GEOGRAPHY('POLYGON((' ||\n        min_x || ' ' || min_y || ', ' ||\n        min_x || ' ' || max_y || ', ' ||\n        max_x || ' ' || max_y || ', ' ||\n        max_x || ' ' || min_y || ', ' ||\n        min_x || ' ' || min_y || \n    '))') AS bounding_box,\n    ST_ASWKT(bounding_box) as wkt\nfrom {{cells.cell5}};",
   "execution_count": null
  },
  {
   "cell_type": "markdown",
   "id": "b950bfe3-6fab-4bb9-ba1c-061e6433d9d1",
   "metadata": {
    "name": "md_answer1",
    "collapsed": false
   },
   "source": "## Answer1\n\nI used ST_COLLECT functions to marge an array of polygons to one multi-polygon.  \nI used WKT->GEOGRAPHY->WKT conversion approach because of the previously mentioned behavior.  \n"
  },
  {
   "cell_type": "code",
   "id": "099eb58c-cff4-419a-a77b-1cac8c3f28a3",
   "metadata": {
    "language": "sql",
    "name": "cell7",
    "collapsed": false
   },
   "outputs": [],
   "source": "SELECT ST_ASWKT(ST_COLLECT(ST_GEOGRAPHYFROMWKT(wkt))) AS wkts\nFROM {{cells.cell6}};",
   "execution_count": null
  },
  {
   "cell_type": "markdown",
   "id": "74e8489f-ef0e-4c65-a134-de670384ab0a",
   "metadata": {
    "name": "md_prepare",
    "collapsed": false
   },
   "source": "I tried another visualize approach.  \nTo visualize by using Streamlit, first create an array of WKTs.  "
  },
  {
   "cell_type": "code",
   "id": "06c68282-c034-4a09-b4e3-5cea04644e7c",
   "metadata": {
    "language": "python",
    "name": "cell8",
    "collapsed": false,
    "codeCollapsed": false
   },
   "outputs": [],
   "source": "import streamlit as st\n\ndf = cell6.to_pandas()\n\nwkts = []\nfor _, row in df.iterrows():\n    wkts.append(row[\"WKT\"])\nst.write(wkts)",
   "execution_count": null
  },
  {
   "cell_type": "markdown",
   "id": "05c3bea3-1709-4899-80da-47e9d745e2cd",
   "metadata": {
    "name": "md_answer2",
    "collapsed": false
   },
   "source": "Snowflake Notebooks can visualize geo data by using Streamlit, GeoPandas and PyDeck!  "
  },
  {
   "cell_type": "code",
   "id": "0f44a490-f0a0-4364-869e-c47f9a194fd1",
   "metadata": {
    "language": "python",
    "name": "cell9",
    "collapsed": false
   },
   "outputs": [],
   "source": "import geopandas\nimport pydeck\n\n# GeoPandasが扱えるデータ型に変換する\ngeodata = geopandas.GeoSeries.from_wkt(wkts)\nst.write(geodata)\n\n# 地図レイヤーの作成\nlayer = pydeck.Layer(\n    type=\"GeoJsonLayer\",\n    data=geodata,\n    get_fill_color=[180, 0, 200, 140]\n)\n\n# 地図の初期ビュー\nINITIAL_VIEW_STATE = pydeck.ViewState(\n    latitude=40.700,\n    longitude=-73.900,\n    zoom=11,\n    max_zoom=16\n)\n\n# 地図を表示\nfig = pydeck.Deck(\n    layers=[layer],\n    map_style=\"mapbox://styles/mapbox/light-v9\",\n    initial_view_state=INITIAL_VIEW_STATE\n)\nst.pydeck_chart(fig)",
   "execution_count": null
  }
 ]
}