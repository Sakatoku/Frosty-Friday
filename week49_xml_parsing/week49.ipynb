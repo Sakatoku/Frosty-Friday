{
 "metadata": {
  "kernelspec": {
   "display_name": "Streamlit Notebook",
   "name": "streamlit"
  },
  "lastEditStatus": {
   "notebookId": "mmawzh6svlbmhnf5vnkm",
   "authorId": "13528670273",
   "authorName": "SAKATOKU",
   "authorEmail": "akr.sakatoku@gmail.com",
   "sessionId": "7b5758df-bcb9-41dd-8291-fb991a14b440",
   "lastEditTime": 1746086206640
  }
 },
 "nbformat_minor": 5,
 "nbformat": 4,
 "cells": [
  {
   "cell_type": "markdown",
   "id": "fd9becb1-e230-4902-870e-e7cb19afe20d",
   "metadata": {
    "name": "cell1",
    "collapsed": false
   },
   "source": "# :snowflake: Frosty Friday Week49 :snowman:\n\n## XML Parsing\n\nXMLフォーマットへの対応に関するドキュメントは[こちら](https://docs.snowflake.com/en/user-guide/semistructured-data-formats#xml)  \nhttps://docs.snowflake.com/en/user-guide/semistructured-data-formats#xml  \n\nわりと最近、2025/3/17頃にGAしている！  \nhttps://docs.snowflake.com/en/release-notes/2025/9_07  "
  },
  {
   "cell_type": "markdown",
   "id": "fd499c30-b025-4993-baa6-03bfe11a0723",
   "metadata": {
    "name": "cell2",
    "collapsed": false
   },
   "source": "## 準備\n\nテーブルやサンプルデータなどを準備する"
  },
  {
   "cell_type": "code",
   "id": "14ba31d2-9469-4923-9564-04e07b0bc1d1",
   "metadata": {
    "language": "sql",
    "name": "cell3"
   },
   "outputs": [],
   "source": "-- サンプルデータを保存しておくテーブルを作成する\nCREATE OR REPLACE TABLE WEEK49 (\n    data VARIANT\n);",
   "execution_count": null
  },
  {
   "cell_type": "code",
   "id": "ad823738-51e2-4cc0-980e-42bbd17453f4",
   "metadata": {
    "language": "sql",
    "name": "cell4"
   },
   "outputs": [],
   "source": "-- WEEK49テーブルにサンプルデータをインサートする\n-- COPY INTOでも可\nINSERT INTO WEEK49\nSELECT PARSE_XML('<?xml version=\"1.0\" encoding=\"UTF-8\"?>\n<library>\n    <book>\n        <title>The Great Gatsby</title>\n        <author>F. Scott Fitzgerald</author>\n        <year>1925</year>\n        <publisher>Scribner</publisher>\n    </book>\n    <book>\n        <title>To Kill a Mockingbird</title>\n        <author>Harper Lee</author>\n        <year>1960</year>\n        <publisher>J. B. Lippincott & Co.</publisher>\n    </book>\n    <book>\n        <title>1984</title>\n        <author>George Orwell</author>\n        <year>1949</year>\n        <publisher>Secker & Warburg</publisher>\n    </book>\n</library>\n');",
   "execution_count": null
  },
  {
   "cell_type": "markdown",
   "id": "eb300830-28ff-44a4-875e-8fc32e2bc5d4",
   "metadata": {
    "name": "cell5",
    "collapsed": false
   },
   "source": "## 解法\n\n解法を試行錯誤で見出していこう"
  },
  {
   "cell_type": "code",
   "id": "4abd0e76-9501-4274-a2e9-c7c296c11600",
   "metadata": {
    "language": "sql",
    "name": "cell6"
   },
   "outputs": [],
   "source": "-- どう格納されたかを確認する\nSELECT * FROM WEEK49;",
   "execution_count": null
  },
  {
   "cell_type": "code",
   "id": "79c9661e-01fe-43c1-86b8-d8656e2c8dd0",
   "metadata": {
    "language": "python",
    "name": "cell6_opt"
   },
   "outputs": [],
   "source": "import streamlit as st\nst.caption(\"ワークシートだと下記のような表示が得られる\")\nst.image(\"https://github.com/Sakatoku/Frosty-Friday/blob/main/week49_xml_parsing/screenshot_with_worksheet.png?raw=true\")",
   "execution_count": null
  },
  {
   "cell_type": "code",
   "id": "7e5f75fd-e56e-4d0b-ba1a-1edebfa6f273",
   "metadata": {
    "language": "python",
    "name": "cell7"
   },
   "outputs": [],
   "source": "import streamlit as st\nimport pandas as pd\ndf = cell6.to_pandas()\nst.code(df.iloc[0, 0], language=\"xml\")",
   "execution_count": null
  },
  {
   "cell_type": "code",
   "id": "adc24c0b-5334-47fa-9d03-fe31d2f9a015",
   "metadata": {
    "language": "sql",
    "name": "cell8"
   },
   "outputs": [],
   "source": "-- 最初の演算子：$\n-- 一番最初の要素を引っ張ってくる、みたいな効果\nSELECT data:\"$\" FROM WEEK49;",
   "execution_count": null
  },
  {
   "cell_type": "code",
   "id": "b30a1bb4-4f10-4afe-8be0-0c51aabf1153",
   "metadata": {
    "language": "python",
    "name": "cell9"
   },
   "outputs": [],
   "source": "import streamlit as st\nimport pandas as pd\ndf = cell8.to_pandas()\nst.code(df.iloc[0, 0], language=\"json\")",
   "execution_count": null
  },
  {
   "cell_type": "code",
   "id": "ced826a8-195d-4577-bbf8-85e91de4e73d",
   "metadata": {
    "language": "sql",
    "name": "cell10"
   },
   "outputs": [],
   "source": "-- この最初の演算子の結果に沿ってクエリすると…\nSELECT\n    data:\"$\"[0].\"$\"[0].\"@\" AS tag_name,\n    data:\"$\"[0].\"$\"[0].\"$\"::VARCHAR AS title,\nFROM WEEK49\nUNION SELECT\n    data:\"$\"[1].\"$\"[0].\"@\",\n    data:\"$\"[1].\"$\"[0].\"$\"::VARCHAR,\nFROM WEEK49\nUNION SELECT\n    data:\"$\"[2].\"$\"[0].\"@\",\n    data:\"$\"[2].\"$\"[0].\"$\"::VARCHAR,\nFROM WEEK49;",
   "execution_count": null
  },
  {
   "cell_type": "code",
   "id": "026f6e5d-bf61-477e-a3d5-294479c478d8",
   "metadata": {
    "language": "sql",
    "name": "cell11"
   },
   "outputs": [],
   "source": "-- これをFLATTENすると…\nSELECT *\nFROM WEEK49,\nTABLE(FLATTEN(INPUT => WEEK49.DATA:\"$\"));",
   "execution_count": null
  },
  {
   "cell_type": "code",
   "id": "fbc46e49-8aef-4ea1-89d1-6e66c5a0985b",
   "metadata": {
    "language": "sql",
    "name": "cell12"
   },
   "outputs": [],
   "source": "-- LATERAL FLATTENは半構造化データを使うときのおまじない。今回の範囲ではTABLE(FLATTEN(...))でも同じ\nSELECT *\nFROM WEEK49,\nLATERAL FLATTEN(INPUT => WEEK49.DATA:\"$\");",
   "execution_count": null
  },
  {
   "cell_type": "markdown",
   "id": "fd30e3c8-d296-4c35-bd45-8c4396b6f82c",
   "metadata": {
    "name": "cell13",
    "collapsed": false
   },
   "source": "### 補足\n\nLATERALの本質的な解説は[こちら](https://zenn.dev/indigo13love/articles/450d4d58654b43)の記事を参照  \nhttps://zenn.dev/indigo13love/articles/450d4d58654b43  "
  },
  {
   "cell_type": "code",
   "id": "6d9d3ffe-d507-4b5f-94ef-6401a16ca867",
   "metadata": {
    "language": "sql",
    "name": "cell14"
   },
   "outputs": [],
   "source": "-- そこから値を確認してみよう\nSELECT XMLGET(book.VALUE, 'title'):\"$\"::VARCHAR AS title\nFROM WEEK49,\nLATERAL FLATTEN(INPUT => WEEK49.DATA:\"$\") AS book;",
   "execution_count": null
  },
  {
   "cell_type": "code",
   "id": "7b5e4df5-9cff-4b22-8780-1f0d2f474bc2",
   "metadata": {
    "language": "sql",
    "name": "cell15"
   },
   "outputs": [],
   "source": "-- 後はコピペすれば最終的にこうなる\nSELECT\n    XMLGET(book.VALUE, 'title'):\"$\"::VARCHAR AS title,\n    XMLGET(book.VALUE, 'author'):\"$\"::VARCHAR AS author,\n    XMLGET(book.VALUE, 'year'):\"$\"::INTEGER AS year,\n    XMLGET(book.VALUE, 'publisher'):\"$\"::VARCHAR AS publisher,\nFROM WEEK49,\nTABLE(FLATTEN(INPUT => WEEK49.DATA:\"$\")) AS book;",
   "execution_count": null
  },
  {
   "cell_type": "code",
   "id": "a5e34266-eda2-425f-bd44-692cc6cb7bea",
   "metadata": {
    "language": "sql",
    "name": "cell16"
   },
   "outputs": [],
   "source": "-- もう一行追加してみる\nINSERT INTO WEEK49\nSELECT PARSE_XML('<?xml version=\"1.0\" encoding=\"UTF-8\"?>\n<library>\n    <book>\n        <title>グレート・ギャツビー</title>\n        <author>野崎孝(翻訳)</author>\n        <year>1974</year>\n        <publisher>新潮社</publisher>\n    </book>\n    <book>\n        <title>アラバマ物語</title>\n        <author>菊池重三郎(翻訳)</author>\n        <year>2016</year>\n        <publisher>暮しの手帖社</publisher>\n    </book>\n    <book>\n        <title>一九八四年</title>\n        <author>高橋和久(翻訳)</author>\n        <year>2009</year>\n        <publisher>早川書房</publisher>\n    </book>\n</library>\n');",
   "execution_count": null
  },
  {
   "cell_type": "code",
   "id": "aa9ade18-724e-4a5b-a118-86df09570ae6",
   "metadata": {
    "language": "sql",
    "name": "cell17"
   },
   "outputs": [],
   "source": "-- 再度、FLATTENした結果を確認\nSELECT *\nFROM WEEK49,\nLATERAL FLATTEN(INPUT => WEEK49.DATA:\"$\");",
   "execution_count": null
  },
  {
   "cell_type": "code",
   "id": "a20aa5ba-d3ca-4f97-a35d-eb4aa4a6862a",
   "metadata": {
    "language": "sql",
    "name": "cell18"
   },
   "outputs": [],
   "source": "-- パースしてみる\nSELECT\n    SEQ,\n    XMLGET(book.VALUE, 'title'):\"$\"::VARCHAR AS title,\n    XMLGET(book.VALUE, 'author'):\"$\"::VARCHAR AS author,\n    XMLGET(book.VALUE, 'year'):\"$\"::INTEGER AS year,\n    XMLGET(book.VALUE, 'publisher'):\"$\"::VARCHAR AS publisher,\nFROM WEEK49,\nTABLE(FLATTEN(INPUT => WEEK49.DATA:\"$\")) AS book;",
   "execution_count": null
  }
 ]
}