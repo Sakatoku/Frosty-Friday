{
 "metadata": {
  "kernelspec": {
   "display_name": "Streamlit Notebook",
   "name": "streamlit"
  }
 },
 "nbformat_minor": 5,
 "nbformat": 4,
 "cells": [
  {
   "cell_type": "markdown",
   "id": "cf432c94-3746-429f-b236-cda14a34e0b2",
   "metadata": {
    "name": "note1",
    "collapsed": false
   },
   "source": "# 🎉Celebrating 100 Challenges🎉\n\nThis notebook requires below packages.  \n- pillow 9.3.0"
  },
  {
   "cell_type": "code",
   "id": "59324e51-e371-4348-8eef-6b58f3a8c88f",
   "metadata": {
    "language": "sql",
    "name": "cell8"
   },
   "outputs": [],
   "source": "",
   "execution_count": null
  },
  {
   "cell_type": "code",
   "id": "3775908f-ca36-4846-8f38-5adca39217f2",
   "metadata": {
    "language": "python",
    "name": "cell1"
   },
   "source": "# Import python packages\nimport streamlit as st\nimport pandas as pd\n\n# We can also use Snowpark for our analyses!\nfrom snowflake.snowpark.context import get_active_session\nsession = get_active_session()\n",
   "execution_count": null,
   "outputs": []
  },
  {
   "cell_type": "markdown",
   "id": "3e798374-4dd7-4981-aa39-3294ed5cf5b2",
   "metadata": {
    "name": "note2",
    "collapsed": false
   },
   "source": "## First, select table by SQL."
  },
  {
   "cell_type": "code",
   "id": "8d50cbf4-0c8d-4950-86cb-114990437ac9",
   "metadata": {
    "language": "sql",
    "name": "cell2"
   },
   "source": "select * from week100_tbl",
   "execution_count": null,
   "outputs": []
  },
  {
   "cell_type": "markdown",
   "id": "91a8d3f8-931b-4b44-b780-f69b95abd267",
   "metadata": {
    "name": "note3",
    "collapsed": false
   },
   "source": "## Next, select image from table."
  },
  {
   "cell_type": "code",
   "id": "ea18e55b-3a58-47dd-842b-a9bfa7a58206",
   "metadata": {
    "language": "python",
    "name": "cell3"
   },
   "outputs": [],
   "source": "df = cell2.to_pandas()\nselected_image = st.selectbox(\"SELECT IMAGE\", df[\"FILE_NAME\"])",
   "execution_count": null
  },
  {
   "cell_type": "markdown",
   "id": "6a40554a-c548-4787-8ed6-f8953ef4d7bd",
   "metadata": {
    "name": "note4",
    "collapsed": false
   },
   "source": "## Convert image bytes from hex string to binary.  \n## And create image object by PIL.  "
  },
  {
   "cell_type": "code",
   "id": "a4196871-3161-480b-b9a2-33d4ffe84b2a",
   "metadata": {
    "language": "python",
    "name": "cell4"
   },
   "outputs": [],
   "source": "from PIL import Image\nimport io\nhex_string = df.loc[df[\"FILE_NAME\"] == selected_image, \"IMAGE_BYTES\"].values[0]\nbytes = bytes.fromhex(hex_string)\nimage = Image.open(io.BytesIO(bytes))\nst.write(image)\nst.image(image, width=500)",
   "execution_count": null
  },
  {
   "cell_type": "markdown",
   "id": "c9002de9-7ffb-47f2-a726-1b89514590aa",
   "metadata": {
    "name": "note5",
    "collapsed": false
   },
   "source": "## Resize image."
  },
  {
   "cell_type": "code",
   "id": "28eed947-3b4d-4a25-99a1-dd9822234a20",
   "metadata": {
    "language": "python",
    "name": "cell5"
   },
   "outputs": [],
   "source": "width = 100\nheight = int(image.height * (width / image.width))\nimage_resized = image.resize((width, height))\nst.write(image_resized)\nst.image(image_resized, width=200)",
   "execution_count": null
  },
  {
   "cell_type": "markdown",
   "id": "8a31282b-d016-48a1-837d-bf10ca9e2be5",
   "metadata": {
    "name": "note6",
    "collapsed": false
   },
   "source": "## Convert image to grayscale."
  },
  {
   "cell_type": "code",
   "id": "663a19dd-8101-45d6-85e8-8e6e60371c02",
   "metadata": {
    "language": "python",
    "name": "cell6"
   },
   "outputs": [],
   "source": "image_gray = image_resized.convert('L')\nst.write(image_gray)\nst.image(image_gray, width=200)",
   "execution_count": null
  },
  {
   "cell_type": "markdown",
   "id": "ba18c2c0-2bfa-40b2-bb17-9434b52923ed",
   "metadata": {
    "name": "note7",
    "collapsed": false
   },
   "source": "## Convert each image pixel to ASCII character,  \n## and show these characters.  "
  },
  {
   "cell_type": "code",
   "id": "092e16ad-5541-4d6d-9f67-7f7814e4ceb4",
   "metadata": {
    "language": "python",
    "name": "cell7"
   },
   "outputs": [],
   "source": "colorset = \"MWN$@%#&B89EGA6mK5HRkbYT43V0JL7gpaseyxznocv?jIftr1li*=-~^`':;,. \"\nascii_art = \"\"\nfor y in range(image_gray.height):\n    for x in range(image_gray.width):\n        pixel = image_gray.getpixel((x, y))\n        color = colorset[pixel // 4]\n        ascii_art += color * 3\n    ascii_art += \"\\n\"\nst.code(ascii_art, language=\"None\")",
   "execution_count": null
  }
 ]
}