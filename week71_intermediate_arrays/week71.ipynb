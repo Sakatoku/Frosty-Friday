{
 "metadata": {
  "kernelspec": {
   "display_name": "Streamlit Notebook",
   "name": "streamlit"
  },
  "lastEditStatus": {
   "notebookId": "kn4cotyj5tasys7finf7",
   "authorId": "13528670273",
   "authorName": "SAKATOKU",
   "authorEmail": "akr.sakatoku@gmail.com",
   "sessionId": "169e9b8d-0d6e-4695-9ccb-c0bee7f0f3d3",
   "lastEditTime": 1759370187442
  }
 },
 "nbformat_minor": 5,
 "nbformat": 4,
 "cells": [
  {
   "cell_type": "markdown",
   "id": "bd1fefdf-49ba-4ac0-ae60-4e59fa18fd87",
   "metadata": {
    "name": "title",
    "collapsed": false
   },
   "source": "# :snowflake: FROSTY FRIDAY Week 71 – Intermediate 🎃\n\n[https://frostyfriday.org/blog/2023/11/10/week-71-intermediate/](https://frostyfriday.org/blog/2023/11/10/week-71-intermediate/)\n\n```\n🦇🎃🦇🎃🦇🎃🦇🎃🦇🎃🦇🎃🦇🎃🦇🎃🦇🎃🦇🎃🦇🎃🦇🎃🦇🎃🦇\n                     /\\                 /\\      \n                    / \\'._   (\\_/)   _.'/ \\     \n                   / .''._'--(o.o)--'_.''. \\    \n                  /.' _/ |`'=/ \" \\='`| \\_ `.\\   \n                 /` .' `\\;-,'\\___/',-;/` '. '\\  \n                /.-'       `\\(-V-)/`       `-.\\ \n                `            \"   \"            `\n🦇🎃🦇🎃🦇🎃   H A P P Y   H A L L O W E E N   🎃🦇🎃🦇🎃🦇\n```"
  },
  {
   "cell_type": "markdown",
   "id": "b053847b-998d-45f6-8f46-89b2e192a5f1",
   "metadata": {
    "name": "step1",
    "collapsed": false
   },
   "source": "## 1. 環境に合わせた設定 🦇"
  },
  {
   "cell_type": "code",
   "id": "3775908f-ca36-4846-8f38-5adca39217f2",
   "metadata": {
    "language": "sql",
    "name": "cell1"
   },
   "source": "-- 自分の環境に合わせてUSEなんとかする\nUSE ROLE ACCOUNTADMIN; -- よいこはやっちゃダメ\nUSE WAREHOUSE COMPUTE_WH;\nUSE DATABASE FROSTYFRIDAY_DB;\n-- CREATE SCHEMA WEEK71;\nUSE SCHEMA WEEK71;",
   "execution_count": null,
   "outputs": []
  },
  {
   "cell_type": "markdown",
   "id": "98d5b886-02ba-4fa1-988a-45e7b2507eb8",
   "metadata": {
    "name": "step2",
    "collapsed": false
   },
   "source": "## 2. セットアップ 🧟‍♂️"
  },
  {
   "cell_type": "code",
   "id": "8d50cbf4-0c8d-4950-86cb-114990437ac9",
   "metadata": {
    "language": "sql",
    "name": "cell2"
   },
   "source": "-- Create the Sales table\nCREATE OR REPLACE TABLE Sales (\n    Sale_ID INT PRIMARY KEY,\n    Product_IDs VARIANT --INT\n);",
   "execution_count": null,
   "outputs": []
  },
  {
   "cell_type": "code",
   "id": "c695373e-ac74-4b62-a1f1-08206cbd5c81",
   "metadata": {
    "language": "sql",
    "name": "cell3"
   },
   "source": "-- Inserting sample sales data\nINSERT INTO Sales (Sale_ID, Product_IDs) SELECT 1, PARSE_JSON('[1, 3]');-- Products A and C in the same sale\nINSERT INTO Sales (Sale_ID, Product_IDs) SELECT 2, PARSE_JSON('[2, 4]');-- Products B and D in the same sale",
   "execution_count": null,
   "outputs": []
  },
  {
   "cell_type": "code",
   "id": "47eb216c-abc2-46a0-a797-cfb03e4ac59b",
   "metadata": {
    "language": "sql",
    "name": "cell4"
   },
   "outputs": [],
   "source": "-- Create the Products table\nCREATE OR REPLACE TABLE Products (\n    Product_ID INT PRIMARY KEY,\n    Product_Name VARCHAR,\n    Product_Categories VARIANT --VARCHAR\n);",
   "execution_count": null
  },
  {
   "cell_type": "code",
   "id": "c4ddaad9-9e0a-4c93-8442-a321bd4d8883",
   "metadata": {
    "language": "sql",
    "name": "cell5"
   },
   "outputs": [],
   "source": "-- Inserting sample data into Products\nINSERT INTO Products (Product_ID, Product_Name, Product_Categories) SELECT 1, 'Product A', ARRAY_CONSTRUCT('Electronics', 'Gadgets');\nINSERT INTO Products (Product_ID, Product_Name, Product_Categories) SELECT 2, 'Product B', ARRAY_CONSTRUCT('Clothing', 'Accessories');\nINSERT INTO Products (Product_ID, Product_Name, Product_Categories) SELECT 3, 'Product C', ARRAY_CONSTRUCT('Electronics', 'Appliances');\nINSERT INTO Products (Product_ID, Product_Name, Product_Categories) SELECT 4, 'Product D', ARRAY_CONSTRUCT('Clothing');",
   "execution_count": null
  },
  {
   "cell_type": "code",
   "id": "c11fd1a0-f779-4f62-9d8e-3e0a6751aebe",
   "metadata": {
    "language": "sql",
    "name": "cell6"
   },
   "outputs": [],
   "source": "-- セットアップが終わったので、内容を確認する：Salesテーブル\nSELECT * FROM Sales;",
   "execution_count": null
  },
  {
   "cell_type": "code",
   "id": "f3bee093-8bc8-4e46-81f6-184390a77cd7",
   "metadata": {
    "language": "sql",
    "name": "cell7"
   },
   "outputs": [],
   "source": "-- セットアップが終わったので、内容を確認する：Productsテーブル\nSELECT * FROM Products;",
   "execution_count": null
  },
  {
   "cell_type": "markdown",
   "id": "15a9c33d-894b-4908-af5c-6278e8a3fffd",
   "metadata": {
    "name": "step3",
    "collapsed": false
   },
   "source": "## 3. 自分なりの解法をやってみよう 🧙‍♀️"
  },
  {
   "cell_type": "code",
   "id": "fa748891-608e-4575-8d55-16129be61776",
   "metadata": {
    "language": "sql",
    "name": "cell8"
   },
   "outputs": [],
   "source": "-- まずJSONをFLATTENして展開する\nCREATE OR REPLACE TEMPORARY TABLE T1 AS (\n    SELECT \n        Sale_ID,\n        Product_ID_List.value::NUMBER AS Product_ID\n    FROM Sales,\n    LATERAL FLATTEN(Sales.Product_IDs) Product_ID_List\n);\nSELECT * FROM T1;",
   "execution_count": null
  },
  {
   "cell_type": "code",
   "id": "a27ecb45-0598-4a92-bb3f-c290ea0bf2c1",
   "metadata": {
    "language": "sql",
    "name": "cell9"
   },
   "outputs": [],
   "source": "-- 同じく、配列をFLATTENして展開する\nCREATE OR REPLACE TEMPORARY TABLE T2 AS (\n    SELECT \n        Product_ID,\n        Product_Category_List.value::STRING AS Product_Category\n    FROM Products,\n    LATERAL FLATTEN(Products.Product_Categories) Product_Category_List\n);\nSELECT * FROM T2;",
   "execution_count": null
  },
  {
   "cell_type": "code",
   "id": "c5a4e8cf-de27-47fb-bd2f-d4ee7e575654",
   "metadata": {
    "language": "sql",
    "name": "cell10"
   },
   "outputs": [],
   "source": "-- それらを結合する\nCREATE OR REPLACE TEMPORARY TABLE T3 AS (\n    SELECT\n        T1.Sale_ID,\n        T1.Product_ID,\n        T2.Product_Category\n    FROM T1\n    LEFT JOIN T2\n    ON T1.Product_ID = T2.Product_ID\n);\nSELECT * FROM T3;",
   "execution_count": null
  },
  {
   "cell_type": "code",
   "id": "722eb6d3-fb7f-4733-ad22-862559c78930",
   "metadata": {
    "language": "sql",
    "name": "cell11"
   },
   "outputs": [],
   "source": "-- 同じSale_IDでグルーピング。グループの中でそれぞれのカテゴリの個数を数えて、2回以上なら共通のカテゴリと判断する\nCREATE OR REPLACE TEMPORARY TABLE T4 AS (\n    SELECT\n        Sale_ID,\n        Product_Category,\n        COUNT(Product_Category) AS Product_Category_Count\n    FROM T3\n    GROUP BY Sale_ID, Product_Category\n    HAVING COUNT(Product_Category) > 1\n);\nSELECT * FROM T4;",
   "execution_count": null
  },
  {
   "cell_type": "code",
   "id": "bef61866-9572-41db-a9ea-f303899a9bfc",
   "metadata": {
    "language": "sql",
    "name": "cell12"
   },
   "outputs": [],
   "source": "-- 結果を出題の指定に寄せるために、ARRAY_AGGで配列化して、表示\nSELECT\n    T4.Sale_ID,\n    ARRAY_AGG(Product_Category) AS Common_Product_Categories\nFROM T4\nGROUP BY\n    Sale_ID\nORDER BY \n    Sale_ID;",
   "execution_count": null
  },
  {
   "cell_type": "markdown",
   "id": "7a708b74-70b3-4c39-acd9-4841e633d237",
   "metadata": {
    "name": "cell13",
    "collapsed": false
   },
   "source": "### 試してみよう\n\n今回のセットアップコードだと [ \"Electronics\" ] みたいな表示になるけど、このカテゴリが複数になるケースでもちゃんと動くのかな？"
  },
  {
   "cell_type": "code",
   "id": "cd3a7724-e1ec-4759-a11b-8a9ea1bb42cb",
   "metadata": {
    "language": "sql",
    "name": "cell14"
   },
   "outputs": [],
   "source": "-- 共通のカテゴリが2つ以上でも動作するのかテストする\nINSERT INTO Sales (Sale_ID, Product_IDs) SELECT 3, PARSE_JSON('[3, 3]');-- Products B and D in the same sale",
   "execution_count": null
  },
  {
   "cell_type": "code",
   "id": "b2164555-c8bb-4161-a5db-b20fb4bf16bf",
   "metadata": {
    "language": "sql",
    "name": "cell15"
   },
   "outputs": [],
   "source": "-- 上記の流れをCTE(Common Table Expressions)で1つのSQLにして、再実行\nWITH T1 AS (\n    SELECT \n        Sale_ID,\n        Product_ID_List.value::NUMBER AS Product_ID\n    FROM Sales,\n    LATERAL FLATTEN(Sales.Product_IDs) Product_ID_List\n),\nT2 AS (\n    SELECT \n        Product_ID,\n        Product_Category_List.value::STRING AS Product_Category\n    FROM Products,\n    LATERAL FLATTEN(Products.Product_Categories) Product_Category_List\n),\nT3 AS (\n    SELECT\n        T1.Sale_ID,\n        T1.Product_ID,\n        T2.Product_Category\n    FROM T1\n    LEFT JOIN T2\n    ON T1.Product_ID = T2.Product_ID\n),\nT4 AS (\n    SELECT\n        Sale_ID,\n        Product_Category,\n        COUNT(Product_Category) AS Product_Category_Count\n    FROM T3\n    GROUP BY Sale_ID, Product_Category\n    HAVING COUNT(Product_Category) > 1\n)\nSELECT\n    T4.Sale_ID,\n    ARRAY_AGG(Product_Category) AS Common_Product_Categories\nFROM T4\nGROUP BY\n    Sale_ID\nORDER BY \n    Sale_ID;",
   "execution_count": null
  }
 ]
}