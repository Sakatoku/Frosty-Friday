{
 "metadata": {
  "kernelspec": {
   "display_name": "Streamlit Notebook",
   "name": "streamlit"
  }
 },
 "nbformat_minor": 5,
 "nbformat": 4,
 "cells": [
  {
   "cell_type": "markdown",
   "id": "5b610fed-637e-4a0b-a209-dac4e70439b6",
   "metadata": {
    "name": "readme",
    "collapsed": false
   },
   "source": "# 🥽 Let's challenge Week 102 ❄\n\n# README\n\nFirst, you must install package \"modin\" from Packages.  \nNext, you must restart session by clicking [End session] and [Start].  "
  },
  {
   "cell_type": "code",
   "id": "bfd843f1-d96a-4167-84ba-070ed58cdcb6",
   "metadata": {
    "language": "sql",
    "name": "cell1",
    "collapsed": false
   },
   "outputs": [],
   "source": "create or replace stage frosty_stage url = 's3://frostyfridaychallenges/challenge_102/';",
   "execution_count": null
  },
  {
   "cell_type": "code",
   "id": "51199a85-7fa3-40e1-8ef3-a8355d3e93d3",
   "metadata": {
    "language": "python",
    "name": "cell2",
    "collapsed": false
   },
   "outputs": [],
   "source": "import modin.pandas as pd\nimport snowflake.snowpark.modin.plugin\n\nfrom snowflake.snowpark.context import get_active_session\nsession = get_active_session()\n\nclothes_shop_df = pd.read_csv('@frosty_stage/clothes_shop_purchases.csv')",
   "execution_count": null
  },
  {
   "cell_type": "code",
   "id": "4ad43d73-df1a-4f6e-84d6-5d0dd146a4d0",
   "metadata": {
    "language": "python",
    "name": "cell3",
    "collapsed": false
   },
   "outputs": [],
   "source": "import streamlit as st\nst.write(clothes_shop_df.dtypes)\nst.dataframe(clothes_shop_df)",
   "execution_count": null
  },
  {
   "cell_type": "code",
   "id": "ce73a0fd-4003-4ded-b9c7-4a6e6b545e95",
   "metadata": {
    "language": "python",
    "name": "answer1",
    "collapsed": false
   },
   "outputs": [],
   "source": "df = clothes_shop_df.to_pandas()\nresult = df.groupby(df[\"Timestamp\"].dt.hour).sum(numeric_only=True).sort_values(\"Total_Price\", ascending=False).index[0]\nst.write(result)",
   "execution_count": null
  },
  {
   "cell_type": "code",
   "id": "14533ed9-ddbc-4b21-97a5-4421e5be2c39",
   "metadata": {
    "language": "python",
    "name": "answer2",
    "collapsed": false
   },
   "outputs": [],
   "source": "df = clothes_shop_df\nresult = df.groupby(df[\"Server\"]).sum(numeric_only=True).sort_values(\"Total_Price\", ascending=False).index[0]\nst.write(result)",
   "execution_count": null
  },
  {
   "cell_type": "code",
   "id": "6146e7ed-5d3a-4fda-9fbb-3c1a204bf098",
   "metadata": {
    "language": "python",
    "name": "answer3",
    "collapsed": false
   },
   "outputs": [],
   "source": "df = clothes_shop_df.head(5)\n# If apply() is used with operand *, it fails.\ndf[\"Total_Price_After_Tax\"] = df[\"Total_Price\"] * 0.8\nst.dataframe(df[[\"Transaction_ID\", \"Total_Price\", \"Total_Price_After_Tax\"]])",
   "execution_count": null
  },
  {
   "cell_type": "code",
   "id": "66a292e0-05e4-4871-affd-30e424da210d",
   "metadata": {
    "language": "python",
    "name": "answer4",
    "collapsed": false
   },
   "outputs": [],
   "source": "df = clothes_shop_df\n# I don't know how to use type annotation at lambda...\ndf[\"Till_Number\"] = df.apply(lambda x: x[\"Till_Number\"] if x[\"Till_Number\"] != 5 else 4, axis=1)\ndf = df.groupby(df[\"Till_Number\"]).sum(numeric_only=True).sort_values(\"Total_Price\", ascending=False)\nst.dataframe(df[[\"Total_Price\"]])",
   "execution_count": null
  }
 ]
}